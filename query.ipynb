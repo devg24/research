{
 "cells": [
  {
   "cell_type": "code",
   "execution_count": 1,
   "metadata": {},
   "outputs": [],
   "source": [
    "from serpapi import GoogleSearch\n",
    "\n",
    "params = {\n",
    "    \"q\": \"Professor Lawrence Angrave\",\n",
    "    \"engine\": \"google\",\n",
    "    \"api_key\": \"d5283d8a6c6640c36e5228ae57e8baa9170859f8b5fa73e3c941cdb51afa9e0f\"\n",
    "}\n",
    "\n",
    "search = GoogleSearch(params)\n",
    "results = search.get_dict()\n",
    "organic_results = results['organic_results']\n"
   ]
  },
  {
   "cell_type": "code",
   "execution_count": 2,
   "metadata": {},
   "outputs": [
    {
     "name": "stdout",
     "output_type": "stream",
     "text": [
      "Lawrence Angrave\n",
      "Teaching Professor, Gies RC Evans Innovation Fellow, CITL Fellow\n",
      "(217) 333-1424\n",
      "2217 Siebel Center for Comp Sci\n",
      "Undergraduate Research Opportunities\n",
      "Lawrence provides Undergraduate Research Opportunities through ClassTranscribe project and Scribe Augmented Reality Project. Summer internships, independent study, senior thesis and other credit earning activities are possible.\n",
      "Research Interests\n",
      "- Accessible Education\n",
      "- Effective computer science instruction at scale\n",
      "Research Areas\n",
      "Books Authored or Co-Authored (Original Editions)\n",
      "- L. C. Angrave. System Programming, a crowd-sourced wiki-book experiment, 2014 - present\n",
      "- L. C. Angrave. Dynamic Visualizer. Wolfram Publishing, 1998\n",
      "Selected Articles in Journals\n",
      "- Bhavya, B., Chen, S., Zhang, Z., Li, W., Zhai, C., Angrave, L., & Huang, Y. (2022). \"Exploring collaborative caption editing to augment video-based learning.\" Educational technology research and development, 1-25.\n",
      "- Tu, N., Zhang, B., Angrave, L., & Sun, T. (2021). bmggum: An R Package for Bayesian Estimation of the Multidimensional Generalized Graded Unfolding Model With Covariates. Applied Psychological Measurement, 45(7-8), 553-555.\n",
      "- R.W. Crues, G.M. Henricks, M. Perry, S. Bhat, C. J. Anderson, N. Shaik, & L Angrave. \"How do Gender, Learning Goals, and Forum Participation Predict Persistence in a Computer Science MOOC?\" ACM Transactions on Computing Education, 18(4), 2017\n",
      "Abstracts (in print or accepted)\n",
      "- Zhang, B., Sun., T., Anderson, C.J., Angrave, L.C., & Drasgow, F. (2021). c substantive responses from faking: Statistical and practical performance of the Bayesian Retrieve-Edit-Select model. In T.Sun & F.Drasgow Item Response Theory III: New Updates in Research and Applications.36th Annual Conference of the Society for Industrial and Organizational Psychology Proceedings\n",
      "Refereed Conference Papers and Presentations\n",
      "- Jiaxi Li, Sujit Varadhan, Aarya Bhatia, Yijun Lin, Colin P. Lualdi, Rob Kooper, Lawrence Angrave (2023) \"The Inclusive Glossary: An Embedded, Interactive Approach to Accessible and Inclusive Learning\" Paper to be presented at 2023 ASEE Conference\n",
      "- Yun Wang, Colin P. Lualdi, Lawrence Angrave (2023) \"Using Deep Learning and Augmented Reality to Improve Accessibility: Inclusive Conversations using Diarization, Captions, and Visualization\" Paper to be presented at 2023 ASEE Conference\n",
      "- Xiuhao Ding, Kang Sun, Zhiyuan Xiao, Sujit Varadhan, Jiaxi Li, Noah Gersich, Ananya Agarwal, Meghana Gopannagari, Chrysafis Vogiatzis, David Dalpiaz, Jennifer Amos, Lawrence Angrave, Hongye Liu (2023) \"Evaluating the low-stakes assessment performance, student perceived accessibility, belongingness, and self-efficacy in connection to the use of digital notes in engineering and computing courses\" Paper to be presented at 2023 ASEE Conference\n",
      "- Sujit Caradhan, Xiuhao Ding, Delu Louis Zhao, Ananya Agarwal, David Dalpiaz, Chrysafis Vogiatzis, Yun Huang, Lawrence Angrave, Hongye Liu (2023) \"Opportunities and Barriers to UDL-based Course Designs for Inclusive Learning in Undergraduate Engineering and other STEM courses\" Paper to be presented at 2023 ASEE Conference\n",
      "- Jiaxi Li, Ninghan Zhong, Rob Kooper, Lawrence Angrave (2023). System Design, Evaluation and Applications of Domain Term Extraction from Engineering Videos. ASEE IL-IN Regional Conference 2023\n",
      "- Minh Duong, Emma Hartman,Pete Stenger,Anusha Ghosh, Lawrence Angrave (2023) \"Work-in-Progress: Gamification of Security Education\" Poster presented at ASEE 2023 IL-IN Regional Conference\n",
      "- Ananya Agarwal, Xiuhao Ding, Sujit Varadhan, Lawrence Angrave, Hongye Liu (2023) \"Understanding the needs of engineering and STEM students with disabilities at the University of Illinois\" Poster presented at the 2023 ASEE IL-IN Regional Conference\n",
      "- Hongye Liu, Jiaxi Li,Lawrence Angrave (2023) \"Workshop: Improving Course Outcomes and why accessibility matters: How to add ClassTranscribe to your course\" Workshop at the 2023 ASEE IL-IN Regional Conference\n",
      "- Jessica Singh, Shlok Mehrotra, David Dalpiaz, Lawrence Angrave (2023) \"Analyzing accuracy of Word Error Rates (WER) of Artificial Intelligence (AI) generated captions compared to professional human generated captions in engineering lecture videos\" Poster presented at the 2023 ASEE IL-IN Regional Conference\n",
      "- Uche Uche-Ike, Lawrence Angrave (2023) \"Improving Access to Engineering Education: Unlocking text and table data in images and videos\" Paper presented at the 2023 ASEE IL-IN Regional Conference\n",
      "- Noah Gersich, Sujit Varadhan, Xiuhao Ding, Ananya Agarwal, Lawrence Angrave, Hongye Liu (2023) \"Work-in-Progress: The development and impact of digital notes on students with and without disabilities in engineering and computing courses\" Poster presented at the 2023 ASEE IL-IN Regional Conference\n",
      "- Lawrence Angrave,Jiaxi Li, Ninghan Zhong (2022) \"Creating TikToks, Memes, Accessible Content, and Books from Engineering Videos? First Solve the Scene Detection Problem\" Paper presented at 2022 ASEE Conference\n",
      "- Hongye Liu,Lawrence Angrave,David Dalpiaz,Chrysafis Vogiatzis,Zhiyuan Xiao,Sujit Varadhan,Jeremy Louie,Deepak Moparthi,Jennifer R Amos (2022). \"A Digital Book Based Pedagogy to Improve Course Content Accessibility for Students with and without Disabilities in Engineering or other STEM courses (WIP)\" Paper presented at ASEE 2022\n",
      "- Hongye Liu, Deepak Moparthi, Lawrence Angrave, Jennifer R Amos,David Dalpiaz,Chrysafis Vogiatzis,Sujit Varadhan, Rebecca Reck, Yun Huang (2022). \"Understanding the needs of students with and without disabilities for inclusive UDL-based design of Engineering courses through learning management systems\" Paper presented at 2022 ASEE 2022\n",
      "- Jawad M., Javid T., Lualdi C., Angrave L. (2021) \"ScribeAR: Design and Use of Augmented-Reality Captioning for Inclusive Education Access.\" Paper presented at ASEE-IL-IN Conference, Urbana, May 2021\n",
      "- Zhang Z., Sui R., Angrave L., Mahipal C., Kooper R., Bhavya B., Huang Y. (2021) \"How Students Search Video Captions to Learn: An Analysis of Search Terms and Behavioral Timing Data.\" Paper presented 2021 ASEE Conference\n",
      "- Phrabhu N, Ferreira R., Bhat S, Perry M, Angrave L (2021) \"Study Partners Matter: Impacts on Inclusion and Outcomes\" Paper presented at 2021 ASEE Conference\n",
      "- Amos, J.R., Zhang, Z., Angrave, L., Liu, H., Shen, Y. , Vawani, K. (2021) \"A UDL-based large-scale study on the needs of students with disabilities in engineering courses\" Paper presented at 2021 ASEE Conference\n",
      "- Amos J, Hongye L, Zhilin Z, Vanwani K, Angrave L (2021) \"A UDL-based large-scale study on the needs of students with disabilities in engineering courses\" Paper presented at 2021 ASEE Conference\n",
      "- Bhat S, Angrave L, Perry M \"Study Partners Matter: Impacts on Equity, Diversity, Inclusion and Outcomes\" Paper presented at 2021 ASEE Conference Proceedings\n",
      "- Amos J, Hongye L, Zhilin Z, Vanwani, K, Angrave L(2021) Qualitative Analysis of college students’ perception of multiple representations and modalities in courses. Paper presented at 2021 ASEE Illinois-Indiana Regional Conference\n",
      "- Zhang Z, Angrave L et al (2021) \"How Students Search Video Captions to Learn: An Analysis of Search Terms and Behavioral Timing Data\", Paper presented at 2021 ASEE Conference\n",
      "- Angrave L., Lualdi C, Timur M and T. Javid (2021) \"ScribeAR: A New Take on Augmented-Reality Captioning for Inclusive Education Access\", Paper presented at 2021 ASEE Illinois-Indiana Regional Conference\n",
      "- Mussulman, D., Jensen, K., Amos, J. R., Angrave, L. C., Flanagan, K., Fagen-Ulmschneider, W., ... & Osborn, J. (2020, June) \"Measuring impact: Student and instructor experience using an online queue\" Paper presented at 2020 ASEE Virtual Annual Conference\n",
      "- Angrave L., Jensen K., Zhang Z., Mahipal C., Mussulman M., Schmitz C., Baird, R., Liu H., Sui R., Wu M., Kooper R. (2020) \"Improving student accessibility, equity, course performance, and lab skills: How introduction of ClassTranscribe is changing engineering education at the University of Illinois\" Paper presented at 2020 ASEE Virtual Annual Conference\n",
      "- Jay, V., Henricks, G., Bosch, N., Perry, M., Bhat, S. P., Williams-Dobosz, D., Angrave, L. C., & Shaik, N. (2020) \"Online discussion forum help-seeking behaviors of students underrepresented in STEM\" In M. Gresalfi & I. S. Horn (Eds.), Proceedings of the 14th International Conference on Learning Sciences (ICLS) 2020, Vol 2. (pp. 809-810). Nashville, TN: International Society of the Learning Sciences\n",
      "- W Fagen-Ulmschneider, K.Jensen, C. Schmitz, J. Amos, D. Mussulman, K. Flanagan, L. Angrave, \"Adoption of an Online Queue App for Higher Education: A Case Study\" Paper presented at ASEE 2019 conference\n",
      "- Bosch, N., Huang, E., Angrave, L., & Perry, M. (2019). Modeling improvement for underrepresented minorities in online STEM education. In Proceedings of the 27th Conference on User Modeling, Adaptation and Personalization (UMAP 2019) (pp. 327–335). New York, NY: ACM\n",
      "- Angrave, L., Zhang Z., Henricks G., Mahipal C. (2019). Who Benefits? Positive Learner Outcomes From Behavioral Analytics of Online Lecture Video Viewing Using ClassTranscribe. SIGCSE 2020, Portland, OR: ACM\n",
      "- Mahipal, C., & Angrave, L., & Xie, Y., & Chatterjee, B., & Wang, H., & Qian, Z. (2019, June), “What did I just miss?!” Presenting ClassTranscribe, an Automated Live-captioning and Text-searchable Lecture Video System, and Related Pedagogical Best Practices Paper presented at 2019 ASEE Annual Conference & Exposition , Tampa, Florida.\n",
      "- R. Sharrock, L. Angrave, E. Hamonic. \"WebLinux: a scalable in-browser and client-side Linux and IDE.\" Learning At Scale (2018)\n",
      "- N. Bosch, R. W. Crues, G. M. Henricks, M. Perry, L. Angrave, N. Shaik, S. Bhat & C. J.Anderson, (2018) \"Modeling key differences in underrepresented students' interactions with an online STEM course.\" Proceeding of the Technology, Mind, and Society Conference\n",
      "- R.W. Crues, N, Bosch, M. Perry, L. Angrave, N. Shaik, & S. Bhat,(2018). Refocusing the lens on engagement in MOOCs.Proceedings of the Fifth Annual ACM Conference on Learning at Scale. New York\n",
      "- J. Ren, M. Hasegawa-Johnson, L Angrave. \"ClassTranscribe: a New Tool with New Educational Opportunities for Student Crowdsourced College Lecture Transcription.\" SLaTE 2015 -- Sixth Workshop on Speech and Language Technology in Education, September 4--5, 2015, Leipzig, Germany, Proceedings. p.179-180\n",
      "Invited Lectures\n",
      "- Applied Use of AI in teaching and learning\n",
      "- Universal Design for Learning & Accessible Content\n",
      "- Helping distressed students\n",
      "- The Future of Open Source Software\n",
      "- CS Education: Industry vs Academia. Education in the post-pandemic world\n",
      "- Universal Design for Learning\n",
      "- Faculty service opportunities for specialized faculty\n",
      "- Universal Design for Learning; Dos, Don’ts, and Time-Saving Practices\n",
      "- Course Accessibility\n",
      "Other Publications\n",
      "- Lawrence Angrave, Jiaxi Li \"Improving Course Outcomes and why accessibility matters: How to add ClassTranscribe to your course\" Workshop at 2023 ASEE IL-IN Regional Conference\n",
      "Service on University Committees\n",
      "- Accessible Video Broadcasting for Illinois System & Board of Trustee meetings (2021 - present)\n",
      "- Technology Accessibility Review Committee (2019 - present)\n",
      "Service on Department Committees\n",
      "- CS Liaison to University of Washington Access Computing Group (2020 - present)\n",
      "- Broadening Participation Committee (2019 - present)\n",
      "- Chair of Academic Appeals Committee (2019-present)\n",
      "- CS Promotion Committee For Specialized Faculty (2018 - 2020)\n",
      "- Undergraduate and Graduate Student Awards committee (2015 - 2018)\n",
      "Service on Campus Committees\n",
      "- Interdisciplinary Game Design Minor Articulation Working Group (2021)\n",
      "- Campus-wide Caliper event data acquisition web service and faculty support (2019 - 2022)\n",
      "Teaching Honors\n",
      "- Karen Wold Level the Learning Field Award (2022)\n",
      "- Center for Innovation in Teaching & Learning (CITL) Faculty Fellow (2019-2021)\n",
      "- Gies College of Business RC Evans Innovation Fellow (2019-2020)\n",
      "- Computer Science Fisher Award (2018)\n",
      "- Computer Science Distinguished Educator Award (2014)\n",
      "- Illinois Student Senate Teaching Excellence Award (2012)\n",
      "- Campus Award for Excellence in Undergraduate Teaching (2012)\n",
      "- Everitt Award for Teaching Excellence (2011)\n",
      "- Collins Award for Innovative Teaching (2011)\n",
      "- Rose Award for Teaching Excellence (2009)\n",
      "Research Honors\n",
      "- British Computer Society Award for Most Innovative Software (1999)\n",
      "Other Honors\n",
      "- ASEE NEE Division Best Diversity Award 2021 (2021)\n",
      "- ASEE NEE Division Best Paper Award 2021 (2021)\n",
      "- ASEE Best DEI Paper Award (NEE Division) 2022 (2022)\n",
      "- EOH The Spirit of Innovation Award 2023 (2023)\n",
      "- EOH Outstanding Undergraduate Research Award 2023 (2023)\n",
      "Recent Courses Taught\n",
      "- CS 125 AL1 (CS 125 AL2, CS 125 AL3) - Intro to Computer Science\n",
      "- CS 199 241 (CS 199 341, CS 199 DYB) - De-Bug your Brain\n",
      "- CS 241 (CS 341) - System Programming\n",
      "- CS 296 41 - Honors Course\n",
      "- CS 498 RK1 (CS 498 RK2, CS 498 VR3, CS 498 VR4) - Virtual Reality\n"
     ]
    }
   ],
   "source": [
    "import trafilatura as tr\n",
    "\n",
    "downloaded = tr.fetch_url(organic_results[0]['link'])\n",
    "text = tr.extract(downloaded)\n",
    "print(text)"
   ]
  },
  {
   "cell_type": "code",
   "execution_count": 5,
   "metadata": {},
   "outputs": [
    {
     "name": "stderr",
     "output_type": "stream",
     "text": [
      "All model checkpoint layers were used when initializing TFRobertaForQuestionAnswering.\n",
      "\n",
      "All the layers of TFRobertaForQuestionAnswering were initialized from the model checkpoint at deepset/roberta-base-squad2.\n",
      "If your task is similar to the task the model of the checkpoint was trained on, you can already use TFRobertaForQuestionAnswering for predictions without further training.\n"
     ]
    }
   ],
   "source": [
    "from transformers import AutoTokenizer, TFAutoModelForQuestionAnswering\n",
    "\n",
    "tokenizer = AutoTokenizer.from_pretrained(\"deepset/roberta-base-squad2\")\n",
    "\n",
    "model = TFAutoModelForQuestionAnswering.from_pretrained(\"deepset/roberta-base-squad2\")"
   ]
  },
  {
   "cell_type": "code",
   "execution_count": 10,
   "metadata": {},
   "outputs": [
    {
     "name": "stdout",
     "output_type": "stream",
     "text": [
      "Question: what is Lawrence Angrave's email id\n",
      "Answer: <s>\n"
     ]
    }
   ],
   "source": [
    "import tensorflow as tf\n",
    "question, text = \"what is Lawrence Angrave's email id\", text\n",
    "\n",
    "input_dict = tokenizer(question, text, return_tensors='tf', truncation=True)\n",
    "outputs = model(input_dict)\n",
    "start_logits = outputs.start_logits\n",
    "end_logits = outputs.end_logits\n",
    "\n",
    "all_tokens = tokenizer.convert_ids_to_tokens(input_dict[\"input_ids\"].numpy()[0])\n",
    "\n",
    "# Print the answer\n",
    "answer_tokens = all_tokens[tf.math.argmax(start_logits, 1)[0] : tf.math.argmax(end_logits, 1)[0]+1]\n",
    "answer_tokens = tokenizer.convert_tokens_to_string(answer_tokens)\n",
    "print(f\"Question: {question}\")\n",
    "print(f\"Answer: {answer_tokens}\")\n"
   ]
  },
  {
   "cell_type": "code",
   "execution_count": null,
   "metadata": {},
   "outputs": [],
   "source": []
  }
 ],
 "metadata": {
  "kernelspec": {
   "display_name": "research",
   "language": "python",
   "name": "python3"
  },
  "language_info": {
   "codemirror_mode": {
    "name": "ipython",
    "version": 3
   },
   "file_extension": ".py",
   "mimetype": "text/x-python",
   "name": "python",
   "nbconvert_exporter": "python",
   "pygments_lexer": "ipython3",
   "version": "3.8.16"
  },
  "orig_nbformat": 4
 },
 "nbformat": 4,
 "nbformat_minor": 2
}
