{
 "cells": [
  {
   "cell_type": "code",
   "execution_count": null,
   "metadata": {},
   "outputs": [],
   "source": [
    "from serpapi import GoogleSearch\n",
    "\n",
    "def get_query(query):\n",
    "    params = {\n",
    "        \"q\": query,\n",
    "        \"engine\": \"google\",\n",
    "        \"api_key\": \"d5283d8a6c6640c36e5228ae57e8baa9170859f8b5fa73e3c941cdb51afa9e0f\"\n",
    "    }\n",
    "\n",
    "    search = GoogleSearch(params)\n",
    "    results = search.get_dict()\n",
    "    organic_results = results['organic_results']\n",
    "    return organic_results\n",
    "\n",
    "organic_results = get_query(\"professor Lawrence Angrave\")\n",
    "\n",
    "\n"
   ]
  },
  {
   "cell_type": "code",
   "execution_count": null,
   "metadata": {},
   "outputs": [],
   "source": [
    "import trafilatura as tr\n",
    "import pandas as pd\n",
    "\n",
    "def parse_results(link):\n",
    "    downloaded = tr.fetch_url(link)\n",
    "    text = tr.extract(downloaded)\n",
    "    if text == None:\n",
    "        return ''\n",
    "    return text\n",
    "\n",
    "def get_scholar_results(author_id):\n",
    "    params = {\n",
    "        'engine': 'google_scholar_author',\n",
    "        'author_id': author_id,\n",
    "        'api_key' : 'd5283d8a6c6640c36e5228ae57e8baa9170859f8b5fa73e3c941cdb51afa9e0f'\n",
    "    }\n",
    "    search = GoogleSearch(params)\n",
    "    results = search.get_dict()\n",
    "    return results\n",
    "\n",
    "dataset = {'titles': [], 'text': []}\n",
    "\n",
    "for result in organic_results:\n",
    "    if 'scholar.google.com' in result['link']:\n",
    "        # get user id from link\n",
    "        user_id = result['link'].split('user=')[1].split('&')[0]\n",
    "        # get scholar results\n",
    "        scholar_results = get_scholar_results(user_id)\n",
    "        print(scholar_results[\"author\"])\n",
    "    else:\n",
    "        with open(\"Documents/\" + result['title'] + '.txt', 'w') as f:\n",
    "            f.write(parse_results(result['link']))\n",
    "        dataset['titles'].append(result['title'])\n",
    "        dataset['text'].append(parse_results(result['link']))\n",
    "\n",
    "df = pd.DataFrame(dataset)\n",
    "df.to_csv('Dataset.csv', index=False, sep='\\t')\n",
    "\n",
    "        \n"
   ]
  },
  {
   "cell_type": "code",
   "execution_count": null,
   "metadata": {},
   "outputs": [],
   "source": [
    "text = ''\n",
    "with open('Documents/Lawrence Angrave Professor of Computer Science.txt', 'r') as f:\n",
    "    text = f.read()\n",
    "print(text)"
   ]
  },
  {
   "cell_type": "code",
   "execution_count": null,
   "metadata": {},
   "outputs": [],
   "source": [
    "\n",
    "from transformers import T5Tokenizer, T5ForConditionalGeneration\n",
    "\n",
    "tokenizer = T5Tokenizer.from_pretrained(\"google/flan-t5-base\")\n",
    "model = T5ForConditionalGeneration.from_pretrained(\"google/flan-t5-base\",max_length=2048)"
   ]
  },
  {
   "cell_type": "code",
   "execution_count": null,
   "metadata": {},
   "outputs": [],
   "source": [
    "input_text = \"Answer based on context \\n\\n context: v1 \\n\\n question: v2\" \n",
    "input_text = input_text.replace('v1', text)\n",
    "input_text = input_text.replace('v2', 'who is professor lawrence angrave?')\n",
    "input_ids = tokenizer(input_text, return_tensors=\"pt\").input_ids\n",
    "outputs = model.generate(input_ids)\n",
    "print(tokenizer.decode(outputs[0]))"
   ]
  },
  {
   "cell_type": "code",
   "execution_count": null,
   "metadata": {},
   "outputs": [],
   "source": [
    "from transformers import RagTokenizer, RagRetriever, RagSequenceForGeneration\n",
    "import torch\n",
    "from datasets import load_from_disk\n",
    "\n",
    "dataset = load_from_disk('knowledge_dir/my_knowledge_dataset')\n",
    "dataset.load_faiss_index(index_name= \"embeddings\" , file = 'knowledge_dir/my_knowledge_dataset_hnsw_index.faiss')\n",
    "\n",
    "retriever = RagRetriever.from_pretrained('facebook/rag-sequence-nq', indexed_dataset=dataset)\n",
    "\n",
    "# initialize with RagRetriever to do everything in one forward call\n",
    "model = RagSequenceForGeneration.from_pretrained(\"facebook/rag-sequence-nq\", retriever=retriever)\n",
    "tokenizer = RagTokenizer.from_pretrained(\"facebook/rag-sequence-nq\")"
   ]
  },
  {
   "cell_type": "code",
   "execution_count": null,
   "metadata": {},
   "outputs": [],
   "source": [
    "inputs = tokenizer.question_encoder(\"Where did professor study from\", return_tensors=\"pt\")\n",
    "input_ids = inputs['input_ids']\n",
    "generated = model.generate(input_ids, max_length=200, num_beams=4)\n",
    "generated_string = tokenizer.batch_decode(generated, skip_special_tokens=True)[0]\n",
    "print(generated_string)"
   ]
  },
  {
   "cell_type": "code",
   "execution_count": null,
   "metadata": {},
   "outputs": [],
   "source": []
  }
 ],
 "metadata": {
  "kernelspec": {
   "display_name": "research",
   "language": "python",
   "name": "python3"
  },
  "language_info": {
   "codemirror_mode": {
    "name": "ipython",
    "version": 3
   },
   "file_extension": ".py",
   "mimetype": "text/x-python",
   "name": "python",
   "nbconvert_exporter": "python",
   "pygments_lexer": "ipython3",
   "version": "3.8.17"
  },
  "orig_nbformat": 4
 },
 "nbformat": 4,
 "nbformat_minor": 2
}
