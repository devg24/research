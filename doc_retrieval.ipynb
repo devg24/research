{
 "cells": [
  {
   "cell_type": "code",
   "execution_count": 2,
   "metadata": {},
   "outputs": [],
   "source": [
    "from serpapi import GoogleSearch\n",
    "\n",
    "def get_query(query):\n",
    "    params = {\n",
    "        \"q\": query,\n",
    "        \"engine\": \"google\",\n",
    "        \"api_key\": \"d5283d8a6c6640c36e5228ae57e8baa9170859f8b5fa73e3c941cdb51afa9e0f\"\n",
    "    }\n",
    "\n",
    "    search = GoogleSearch(params)\n",
    "    results = search.get_dict()\n",
    "    organic_results = results['organic_results']\n",
    "    return organic_results\n",
    "\n",
    "organic_results = get_query(\"professor Lawrence Angrave\")\n",
    "\n"
   ]
  },
  {
   "cell_type": "code",
   "execution_count": 3,
   "metadata": {},
   "outputs": [
    {
     "name": "stdout",
     "output_type": "stream",
     "text": [
      "{'name': 'Lawrence Angrave', 'affiliations': 'Teaching Professor of Computer Science, University of Illinois at Urbana Champaign', 'email': 'Verified email at illinois.edu', 'thumbnail': 'https://scholar.google.com/citations/images/avatar_scholar_128.png'}\n"
     ]
    }
   ],
   "source": [
    "import trafilatura as tr\n",
    "import pandas as pd\n",
    "\n",
    "def parse_results(link):\n",
    "    downloaded = tr.fetch_url(link)\n",
    "    text = tr.extract(downloaded)\n",
    "    if text == None:\n",
    "        return ''\n",
    "    return text\n",
    "\n",
    "def get_scholar_results(author_id):\n",
    "    params = {\n",
    "        'engine': 'google_scholar_author',\n",
    "        'author_id': author_id,\n",
    "        'api_key' : 'd5283d8a6c6640c36e5228ae57e8baa9170859f8b5fa73e3c941cdb51afa9e0f'\n",
    "    }\n",
    "    search = GoogleSearch(params)\n",
    "    results = search.get_dict()\n",
    "    return results\n",
    "\n",
    "dataset = {'titles': [], 'text': []}\n",
    "\n",
    "for result in organic_results:\n",
    "    if 'scholar.google.com' in result['link']:\n",
    "        # get user id from link\n",
    "        user_id = result['link'].split('user=')[1].split('&')[0]\n",
    "        # get scholar results\n",
    "        scholar_results = get_scholar_results(user_id)\n",
    "        print(scholar_results[\"author\"])\n",
    "    else:\n",
    "        with open(\"Documents/\" + result['title'] + '.txt', 'w') as f:\n",
    "            f.write(parse_results(result['link']))\n",
    "        dataset['titles'].append(result['title'])\n",
    "        dataset['text'].append(parse_results(result['link']))\n",
    "\n",
    "df = pd.DataFrame(dataset)\n",
    "df.to_csv('Dataset.csv', index=False, sep='\\t')\n"
   ]
  },
  {
   "cell_type": "code",
   "execution_count": 4,
   "metadata": {},
   "outputs": [
    {
     "name": "stderr",
     "output_type": "stream",
     "text": [
      "/Users/devgoyal/anaconda3/envs/research/lib/python3.8/site-packages/InstructorEmbedding/instructor.py:7: TqdmWarning: IProgress not found. Please update jupyter and ipywidgets. See https://ipywidgets.readthedocs.io/en/stable/user_install.html\n",
      "  from tqdm.autonotebook import trange\n"
     ]
    },
    {
     "name": "stdout",
     "output_type": "stream",
     "text": [
      "load INSTRUCTOR_Transformer\n",
      "max_seq_length  512\n"
     ]
    }
   ],
   "source": [
    "from InstructorEmbedding import INSTRUCTOR\n",
    "model = INSTRUCTOR('hkunlp/instructor-base')"
   ]
  },
  {
   "cell_type": "code",
   "execution_count": 17,
   "metadata": {},
   "outputs": [
    {
     "data": {
      "text/html": [
       "<div>\n",
       "<style scoped>\n",
       "    .dataframe tbody tr th:only-of-type {\n",
       "        vertical-align: middle;\n",
       "    }\n",
       "\n",
       "    .dataframe tbody tr th {\n",
       "        vertical-align: top;\n",
       "    }\n",
       "\n",
       "    .dataframe thead th {\n",
       "        text-align: right;\n",
       "    }\n",
       "</style>\n",
       "<table border=\"1\" class=\"dataframe\">\n",
       "  <thead>\n",
       "    <tr style=\"text-align: right;\">\n",
       "      <th></th>\n",
       "      <th>text</th>\n",
       "      <th>embeddings</th>\n",
       "    </tr>\n",
       "  </thead>\n",
       "  <tbody>\n",
       "    <tr>\n",
       "      <th>0</th>\n",
       "      <td>Lawrence Angrave\\nTeaching Professor, Gies RC ...</td>\n",
       "      <td>[-0.032172404, -0.03031627, 0.021431386, 0.079...</td>\n",
       "    </tr>\n",
       "    <tr>\n",
       "      <th>1</th>\n",
       "      <td>7 Siebel Center for Comp Sci\\nUndergraduate Re...</td>\n",
       "      <td>[-0.016080884, -0.003913253, 0.023245882, 0.03...</td>\n",
       "    </tr>\n",
       "    <tr>\n",
       "      <th>2</th>\n",
       "      <td>search Opportunities through ClassTranscribe p...</td>\n",
       "      <td>[-0.044072248, -0.00553426, 0.049387984, 0.046...</td>\n",
       "    </tr>\n",
       "    <tr>\n",
       "      <th>3</th>\n",
       "      <td>ternships, independent study, senior thesis an...</td>\n",
       "      <td>[-0.031310268, -0.005674911, 0.0009308431, 0.0...</td>\n",
       "    </tr>\n",
       "    <tr>\n",
       "      <th>4</th>\n",
       "      <td>ch Interests\\n- Accessible Education\\n- Effect...</td>\n",
       "      <td>[-0.02270496, -0.0022362072, 0.037036084, 0.04...</td>\n",
       "    </tr>\n",
       "  </tbody>\n",
       "</table>\n",
       "</div>"
      ],
      "text/plain": [
       "                                                text  \\\n",
       "0  Lawrence Angrave\\nTeaching Professor, Gies RC ...   \n",
       "1  7 Siebel Center for Comp Sci\\nUndergraduate Re...   \n",
       "2  search Opportunities through ClassTranscribe p...   \n",
       "3  ternships, independent study, senior thesis an...   \n",
       "4  ch Interests\\n- Accessible Education\\n- Effect...   \n",
       "\n",
       "                                          embeddings  \n",
       "0  [-0.032172404, -0.03031627, 0.021431386, 0.079...  \n",
       "1  [-0.016080884, -0.003913253, 0.023245882, 0.03...  \n",
       "2  [-0.044072248, -0.00553426, 0.049387984, 0.046...  \n",
       "3  [-0.031310268, -0.005674911, 0.0009308431, 0.0...  \n",
       "4  [-0.02270496, -0.0022362072, 0.037036084, 0.04...  "
      ]
     },
     "execution_count": 17,
     "metadata": {},
     "output_type": "execute_result"
    }
   ],
   "source": [
    "instruction = \"represent the document for retrieval\"\n",
    "\n",
    "# embed the text column of the dataset in in lengths of 100\n",
    "texts = ' '.join(df['text'].tolist())\n",
    "\n",
    "embeddings = {'text' : [] ,'embeddings': []}\n",
    "\n",
    "# divide the text into chunks of 100 and embed them\n",
    "for i in range(0, len(texts), 100):\n",
    "    embedding = model.encode([[instruction, texts[i:i+100]]])\n",
    "    embeddings['text'].append(texts[i:i+100])\n",
    "    embeddings['embeddings'].append(embedding[0])\n",
    "\n",
    "df_embed = pd.DataFrame(embeddings, index=None)\n",
    "df_embed.to_csv('Embeddings.csv', index=False, sep='\\t')\n",
    "df_embed.head()\n",
    "\n"
   ]
  },
  {
   "cell_type": "code",
   "execution_count": 18,
   "metadata": {},
   "outputs": [
    {
     "name": "stdout",
     "output_type": "stream",
     "text": [
      "train_features shape =  (321, 768)\n",
      "train_labels shape =  (321,)\n"
     ]
    }
   ],
   "source": [
    "import numpy as np\n",
    "\n",
    "\n",
    "train_features = np.array(df_embed['embeddings'].tolist())\n",
    "train_labels = np.array([i for i in range(len(train_features))])\n",
    "print(\"train_features shape = \", train_features.shape)\n",
    "print(\"train_labels shape = \", train_labels.shape)"
   ]
  },
  {
   "cell_type": "code",
   "execution_count": 19,
   "metadata": {},
   "outputs": [
    {
     "data": {
      "text/html": [
       "<style>#sk-container-id-2 {color: black;background-color: white;}#sk-container-id-2 pre{padding: 0;}#sk-container-id-2 div.sk-toggleable {background-color: white;}#sk-container-id-2 label.sk-toggleable__label {cursor: pointer;display: block;width: 100%;margin-bottom: 0;padding: 0.3em;box-sizing: border-box;text-align: center;}#sk-container-id-2 label.sk-toggleable__label-arrow:before {content: \"▸\";float: left;margin-right: 0.25em;color: #696969;}#sk-container-id-2 label.sk-toggleable__label-arrow:hover:before {color: black;}#sk-container-id-2 div.sk-estimator:hover label.sk-toggleable__label-arrow:before {color: black;}#sk-container-id-2 div.sk-toggleable__content {max-height: 0;max-width: 0;overflow: hidden;text-align: left;background-color: #f0f8ff;}#sk-container-id-2 div.sk-toggleable__content pre {margin: 0.2em;color: black;border-radius: 0.25em;background-color: #f0f8ff;}#sk-container-id-2 input.sk-toggleable__control:checked~div.sk-toggleable__content {max-height: 200px;max-width: 100%;overflow: auto;}#sk-container-id-2 input.sk-toggleable__control:checked~label.sk-toggleable__label-arrow:before {content: \"▾\";}#sk-container-id-2 div.sk-estimator input.sk-toggleable__control:checked~label.sk-toggleable__label {background-color: #d4ebff;}#sk-container-id-2 div.sk-label input.sk-toggleable__control:checked~label.sk-toggleable__label {background-color: #d4ebff;}#sk-container-id-2 input.sk-hidden--visually {border: 0;clip: rect(1px 1px 1px 1px);clip: rect(1px, 1px, 1px, 1px);height: 1px;margin: -1px;overflow: hidden;padding: 0;position: absolute;width: 1px;}#sk-container-id-2 div.sk-estimator {font-family: monospace;background-color: #f0f8ff;border: 1px dotted black;border-radius: 0.25em;box-sizing: border-box;margin-bottom: 0.5em;}#sk-container-id-2 div.sk-estimator:hover {background-color: #d4ebff;}#sk-container-id-2 div.sk-parallel-item::after {content: \"\";width: 100%;border-bottom: 1px solid gray;flex-grow: 1;}#sk-container-id-2 div.sk-label:hover label.sk-toggleable__label {background-color: #d4ebff;}#sk-container-id-2 div.sk-serial::before {content: \"\";position: absolute;border-left: 1px solid gray;box-sizing: border-box;top: 0;bottom: 0;left: 50%;z-index: 0;}#sk-container-id-2 div.sk-serial {display: flex;flex-direction: column;align-items: center;background-color: white;padding-right: 0.2em;padding-left: 0.2em;position: relative;}#sk-container-id-2 div.sk-item {position: relative;z-index: 1;}#sk-container-id-2 div.sk-parallel {display: flex;align-items: stretch;justify-content: center;background-color: white;position: relative;}#sk-container-id-2 div.sk-item::before, #sk-container-id-2 div.sk-parallel-item::before {content: \"\";position: absolute;border-left: 1px solid gray;box-sizing: border-box;top: 0;bottom: 0;left: 50%;z-index: -1;}#sk-container-id-2 div.sk-parallel-item {display: flex;flex-direction: column;z-index: 1;position: relative;background-color: white;}#sk-container-id-2 div.sk-parallel-item:first-child::after {align-self: flex-end;width: 50%;}#sk-container-id-2 div.sk-parallel-item:last-child::after {align-self: flex-start;width: 50%;}#sk-container-id-2 div.sk-parallel-item:only-child::after {width: 0;}#sk-container-id-2 div.sk-dashed-wrapped {border: 1px dashed gray;margin: 0 0.4em 0.5em 0.4em;box-sizing: border-box;padding-bottom: 0.4em;background-color: white;}#sk-container-id-2 div.sk-label label {font-family: monospace;font-weight: bold;display: inline-block;line-height: 1.2em;}#sk-container-id-2 div.sk-label-container {text-align: center;}#sk-container-id-2 div.sk-container {/* jupyter's `normalize.less` sets `[hidden] { display: none; }` but bootstrap.min.css set `[hidden] { display: none !important; }` so we also need the `!important` here to be able to override the default hidden behavior on the sphinx rendered scikit-learn.org. See: https://github.com/scikit-learn/scikit-learn/issues/21755 */display: inline-block !important;position: relative;}#sk-container-id-2 div.sk-text-repr-fallback {display: none;}</style><div id=\"sk-container-id-2\" class=\"sk-top-container\"><div class=\"sk-text-repr-fallback\"><pre>KNeighborsClassifier()</pre><b>In a Jupyter environment, please rerun this cell to show the HTML representation or trust the notebook. <br />On GitHub, the HTML representation is unable to render, please try loading this page with nbviewer.org.</b></div><div class=\"sk-container\" hidden><div class=\"sk-item\"><div class=\"sk-estimator sk-toggleable\"><input class=\"sk-toggleable__control sk-hidden--visually\" id=\"sk-estimator-id-2\" type=\"checkbox\" checked><label for=\"sk-estimator-id-2\" class=\"sk-toggleable__label sk-toggleable__label-arrow\">KNeighborsClassifier</label><div class=\"sk-toggleable__content\"><pre>KNeighborsClassifier()</pre></div></div></div></div></div>"
      ],
      "text/plain": [
       "KNeighborsClassifier()"
      ]
     },
     "execution_count": 19,
     "metadata": {},
     "output_type": "execute_result"
    }
   ],
   "source": [
    "# KNN\n",
    "from sklearn.neighbors import KNeighborsClassifier\n",
    "knn = KNeighborsClassifier(n_neighbors=5)\n",
    "knn.fit(train_features, train_labels)"
   ]
  },
  {
   "cell_type": "code",
   "execution_count": 8,
   "metadata": {},
   "outputs": [
    {
     "name": "stderr",
     "output_type": "stream",
     "text": [
      "You are using the legacy behaviour of the <class 'transformers.models.t5.tokenization_t5.T5Tokenizer'>. This means that tokens that come after special tokens will not be properly handled. We recommend you to read the related pull request available at https://github.com/huggingface/transformers/pull/24565\n"
     ]
    }
   ],
   "source": [
    "from transformers import T5Tokenizer, T5ForConditionalGeneration\n",
    "\n",
    "tokenizer = T5Tokenizer.from_pretrained(\"google/flan-t5-base\")\n",
    "model_flan = T5ForConditionalGeneration.from_pretrained(\"google/flan-t5-base\",max_length=2048)"
   ]
  },
  {
   "cell_type": "code",
   "execution_count": 26,
   "metadata": {},
   "outputs": [
    {
     "name": "stdout",
     "output_type": "stream",
     "text": [
      "Answer based on context \n",
      "\n",
      " context: grave\n",
      "Lawrence Angrave is a well-known professor in the UIUC Computer Science department. Having tau \n",
      "Lawrence Angrave is a Teaching Professor at the Computer Science department of the University of Il ality Based on\n",
      "111 ratings\n",
      "Lawrence\n",
      "Angrave\n",
      "Professor in the\n",
      "Computer Science department\n",
      "at\n",
      "Universi LLC Lawrence Angrave was a highly successful science student at RLS during the 1980’s. His Mum tells The amazing class! Angrave is really a enthusiastic teacher and willing to tell you everything ! \n",
      "\n",
      " question: Who is professor Lawrence Angrave?\n"
     ]
    },
    {
     "name": "stderr",
     "output_type": "stream",
     "text": [
      "/Users/devgoyal/anaconda3/envs/research/lib/python3.8/site-packages/transformers/generation/utils.py:1369: UserWarning: Using `max_length`'s default (2048) to control the generation length. This behaviour is deprecated and will be removed from the config in v5 of Transformers -- we recommend using `max_new_tokens` to control the maximum length of the generation.\n",
      "  warnings.warn(\n"
     ]
    },
    {
     "name": "stdout",
     "output_type": "stream",
     "text": [
      "<pad> a well-known professor in the UIUC Computer Science department</s>\n"
     ]
    }
   ],
   "source": [
    "def get_answer(question, context):\n",
    "    input_text = \"Answer based on context \\n\\n context: v1 \\n\\n question: v2\" \n",
    "    input_text = input_text.replace('v1', context)\n",
    "    input_text = input_text.replace('v2', question)\n",
    "    print(input_text)\n",
    "    input_ids = tokenizer(input_text, return_tensors=\"pt\").input_ids\n",
    "    outputs = model_flan.generate(input_ids)\n",
    "    return tokenizer.decode(outputs[0])\n",
    "\n",
    "question = \"Who is professor Lawrence Angrave?\"\n",
    "question_instruction = \"represent the question for retrieving supporting documents:\"\n",
    "\n",
    "q_embedding = model.encode([[question_instruction, question]])[0]\n",
    "\n",
    "\n",
    "# get the top 5 documents\n",
    "top_5 = knn.kneighbors([q_embedding], n_neighbors=5, return_distance=False)[0]\n",
    "\n",
    "# concatenate the text from the top 5 documents\n",
    "context = ' '.join(df_embed.iloc[top_5]['text'].tolist())\n",
    "# print(context[:500])\n",
    "\n",
    "# get the answer\n",
    "answer = get_answer(question, context[:500])\n",
    "print(answer)\n",
    "\n",
    "\n"
   ]
  },
  {
   "cell_type": "code",
   "execution_count": 22,
   "metadata": {},
   "outputs": [
    {
     "data": {
      "text/plain": [
       "['Lawrence Angrave\\nTeaching Professor, Gies RC Evans Innovation Fellow, CITL Fellow\\n(217) 333-1424\\n221',\n",
       " '7 Siebel Center for Comp Sci\\nUndergraduate Research Opportunities\\nLawrence provides Undergraduate Re',\n",
       " 'search Opportunities through ClassTranscribe project and Scribe Augmented Reality Project. Summer in',\n",
       " 'ternships, independent study, senior thesis and other credit earning activities are possible.\\nResear',\n",
       " 'ch Interests\\n- Accessible Education\\n- Effective computer science instruction at scale\\nResearch Areas']"
      ]
     },
     "execution_count": 22,
     "metadata": {},
     "output_type": "execute_result"
    }
   ],
   "source": [
    "df_embed.iloc[[0,1,2,3,4]]['text'].to_list()"
   ]
  },
  {
   "cell_type": "code",
   "execution_count": null,
   "metadata": {},
   "outputs": [],
   "source": []
  }
 ],
 "metadata": {
  "kernelspec": {
   "display_name": "research",
   "language": "python",
   "name": "python3"
  },
  "language_info": {
   "codemirror_mode": {
    "name": "ipython",
    "version": 3
   },
   "file_extension": ".py",
   "mimetype": "text/x-python",
   "name": "python",
   "nbconvert_exporter": "python",
   "pygments_lexer": "ipython3",
   "version": "3.8.17"
  },
  "orig_nbformat": 4
 },
 "nbformat": 4,
 "nbformat_minor": 2
}
