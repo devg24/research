{
 "cells": [
  {
   "cell_type": "code",
   "execution_count": 1,
   "metadata": {},
   "outputs": [],
   "source": [
    "from serpapi import GoogleSearch\n",
    "\n",
    "def get_query(query):\n",
    "    params = {\n",
    "        \"q\": query,\n",
    "        \"engine\": \"google\",\n",
    "        \"api_key\": \"d5283d8a6c6640c36e5228ae57e8baa9170859f8b5fa73e3c941cdb51afa9e0f\"\n",
    "    }\n",
    "\n",
    "    search = GoogleSearch(params)\n",
    "    results = search.get_dict()\n",
    "    organic_results = results['organic_results']\n",
    "    return organic_results\n",
    "\n",
    "organic_results = get_query(\"professor Lawrence Angrave\")\n",
    "\n"
   ]
  },
  {
   "cell_type": "code",
   "execution_count": 2,
   "metadata": {},
   "outputs": [
    {
     "name": "stdout",
     "output_type": "stream",
     "text": [
      "{'name': 'Lawrence Angrave', 'affiliations': 'Teaching Professor of Computer Science, University of Illinois at Urbana Champaign', 'email': 'Verified email at illinois.edu', 'thumbnail': 'https://scholar.google.com/citations/images/avatar_scholar_128.png'}\n"
     ]
    }
   ],
   "source": [
    "import trafilatura as tr\n",
    "import pandas as pd\n",
    "\n",
    "def parse_results(link):\n",
    "    downloaded = tr.fetch_url(link)\n",
    "    text = tr.extract(downloaded, include_formatting=True)\n",
    "    if text == None:\n",
    "        return ''\n",
    "    return text\n",
    "\n",
    "def get_scholar_results(author_id):\n",
    "    params = {\n",
    "        'engine': 'google_scholar_author',\n",
    "        'author_id': author_id,\n",
    "        'api_key' : 'd5283d8a6c6640c36e5228ae57e8baa9170859f8b5fa73e3c941cdb51afa9e0f'\n",
    "    }\n",
    "    search = GoogleSearch(params)\n",
    "    results = search.get_dict()\n",
    "    return results\n",
    "\n",
    "dataset = {'titles': [], 'text': []}\n",
    "\n",
    "for result in organic_results:\n",
    "    if 'scholar.google.com' in result['link']:\n",
    "        # get user id from link\n",
    "        user_id = result['link'].split('user=')[1].split('&')[0]\n",
    "        # get scholar results\n",
    "        scholar_results = get_scholar_results(user_id)\n",
    "        print(scholar_results[\"author\"])\n",
    "    else:\n",
    "        with open(\"Documents/\" + result['title'] + '.txt', 'w') as f:\n",
    "            f.write(parse_results(result['link']))\n",
    "        dataset['titles'].append(result['title'])\n",
    "        dataset['text'].append(parse_results(result['link']))\n",
    "\n",
    "df = pd.DataFrame(dataset)\n",
    "# df.to_csv('Dataset.csv', index=False, sep='\\t')\n"
   ]
  },
  {
   "cell_type": "code",
   "execution_count": 3,
   "metadata": {},
   "outputs": [
    {
     "name": "stderr",
     "output_type": "stream",
     "text": [
      "/Users/devgoyal/anaconda3/envs/research/lib/python3.8/site-packages/tqdm/auto.py:21: TqdmWarning: IProgress not found. Please update jupyter and ipywidgets. See https://ipywidgets.readthedocs.io/en/stable/user_install.html\n",
      "  from .autonotebook import tqdm as notebook_tqdm\n",
      "You are using the legacy behaviour of the <class 'transformers.models.t5.tokenization_t5.T5Tokenizer'>. This means that tokens that come after special tokens will not be properly handled. We recommend you to read the related pull request available at https://github.com/huggingface/transformers/pull/24565\n"
     ]
    }
   ],
   "source": [
    "from transformers import T5Tokenizer, T5ForConditionalGeneration\n",
    "\n",
    "tokenizer = T5Tokenizer.from_pretrained(\"google/flan-t5-base\")\n",
    "model_flan = T5ForConditionalGeneration.from_pretrained(\"google/flan-t5-base\",max_length=2048)"
   ]
  },
  {
   "cell_type": "code",
   "execution_count": 4,
   "metadata": {},
   "outputs": [],
   "source": [
    "# split the text into passages\n",
    "\n",
    "def split_text(text: str, n=100, character=\" \"):\n",
    "    \"\"\"Split the text every ``n``-th occurrence of ``character``\"\"\"\n",
    "    text = text.split(character)\n",
    "    return [character.join(text[i : i + n]).strip() for i in range(0, len(text), n)]\n",
    "\n",
    "\n",
    "def split_documents(documents: dict) -> dict:\n",
    "    \"\"\"Split documents into passages\"\"\"\n",
    "    titles, texts = [], []\n",
    "    for title, text in zip(documents[\"titles\"], documents[\"text\"]):\n",
    "        if text is not None:\n",
    "            for passage in split_text(text):\n",
    "                titles.append(title if title is not None else \"\")\n",
    "                texts.append(passage)\n",
    "    return {\"title\": titles, \"text\": texts}\n",
    "\n",
    "documents = df.to_dict('list')\n",
    "documents = split_documents(documents)\n"
   ]
  },
  {
   "cell_type": "code",
   "execution_count": 5,
   "metadata": {},
   "outputs": [
    {
     "name": "stdout",
     "output_type": "stream",
     "text": [
      "47\n"
     ]
    }
   ],
   "source": [
    "import torch\n",
    "from transformers import BertTokenizer, BertModel\n",
    "import numpy as np\n",
    "\n",
    "def embed_documents(documents):\n",
    "    # Load pre-trained BERT tokenizer and model\n",
    "    tokenizer = BertTokenizer.from_pretrained('bert-base-uncased')\n",
    "    model = BertModel.from_pretrained('bert-base-uncased')\n",
    "\n",
    "    # Initialize an empty list to store the document embeddings\n",
    "    document_embeddings = []\n",
    "\n",
    "    # Loop through each document and embed it\n",
    "    for doc in documents:\n",
    "        # Tokenize the document and convert it to tensors\n",
    "        inputs = tokenizer(doc, return_tensors='pt', truncation=True, padding=True)\n",
    "        \n",
    "        # Forward pass through the BERT model\n",
    "        with torch.no_grad():\n",
    "            outputs = model(**inputs)\n",
    "            # Extract the last layer embeddings for each token\n",
    "            embeddings = outputs.last_hidden_state\n",
    "        \n",
    "        # Calculate the mean of token embeddings to get document-level embedding\n",
    "        doc_embedding = torch.mean(embeddings, dim=1).squeeze().numpy()\n",
    "        document_embeddings.append(doc_embedding)\n",
    "\n",
    "    return document_embeddings\n",
    "\n",
    "documents[\"embedding\"] = embed_documents(documents[\"text\"])\n",
    "print(len(documents[\"embedding\"]))\n"
   ]
  },
  {
   "cell_type": "code",
   "execution_count": 6,
   "metadata": {},
   "outputs": [
    {
     "name": "stdout",
     "output_type": "stream",
     "text": [
      "(47, 3)\n"
     ]
    }
   ],
   "source": [
    "# documents['embeddings'] = [model.encode([[\"represent this document for retrieval\",i]])[0] for i in documents['text']]\n",
    "new_df_embed = pd.DataFrame(documents)\n",
    "print(new_df_embed.shape)"
   ]
  },
  {
   "cell_type": "code",
   "execution_count": 7,
   "metadata": {},
   "outputs": [
    {
     "name": "stdout",
     "output_type": "stream",
     "text": [
      "{'Lawrence Angrave - Computer Science | UIUC': 0, 'Lawrence Angrave - Illinois Experts': 1, 'Lawrence Angrave at University Of Illinois at Urbana': 2, 'Lawrence Angrave': 3, 'My name is Lawrence Angrave and I think we can do better': 4, 'ClassTranscribe Demonstration by Lawrence Angrave': 5, 'Shravan Goli x Lawrence Angrave: CS Education in Industry ...': 6, 'Lawrence Angrave Professor of Computer Science': 7, 'Explore CS: November Sessions - IllinoisWCS - Medium': 8}\n"
     ]
    }
   ],
   "source": [
    "label_to_id = {label: i for i, label in enumerate(new_df_embed['title'].unique())}\n",
    "print(label_to_id)\n",
    "id_to_label = {i: label for label, i in label_to_id.items()}"
   ]
  },
  {
   "cell_type": "code",
   "execution_count": 8,
   "metadata": {},
   "outputs": [
    {
     "data": {
      "text/html": [
       "<div>\n",
       "<style scoped>\n",
       "    .dataframe tbody tr th:only-of-type {\n",
       "        vertical-align: middle;\n",
       "    }\n",
       "\n",
       "    .dataframe tbody tr th {\n",
       "        vertical-align: top;\n",
       "    }\n",
       "\n",
       "    .dataframe thead th {\n",
       "        text-align: right;\n",
       "    }\n",
       "</style>\n",
       "<table border=\"1\" class=\"dataframe\">\n",
       "  <thead>\n",
       "    <tr style=\"text-align: right;\">\n",
       "      <th></th>\n",
       "      <th>title</th>\n",
       "      <th>text</th>\n",
       "      <th>embedding</th>\n",
       "    </tr>\n",
       "  </thead>\n",
       "  <tbody>\n",
       "    <tr>\n",
       "      <th>0</th>\n",
       "      <td>Lawrence Angrave - Computer Science | UIUC</td>\n",
       "      <td># Lawrence Angrave\\n**Teaching Professor, Gies...</td>\n",
       "      <td>[-0.32503524, 0.10525391, 0.31873307, -0.01484...</td>\n",
       "    </tr>\n",
       "    <tr>\n",
       "      <th>1</th>\n",
       "      <td>Lawrence Angrave - Computer Science | UIUC</td>\n",
       "      <td>(2022). \"Exploring collaborative caption editi...</td>\n",
       "      <td>[-0.50963396, -0.08074478, 0.32562825, 0.01393...</td>\n",
       "    </tr>\n",
       "    <tr>\n",
       "      <th>2</th>\n",
       "      <td>Lawrence Angrave - Computer Science | UIUC</td>\n",
       "      <td>(2021). c substantive responses from faking: S...</td>\n",
       "      <td>[-0.2840345, 0.018994091, 0.28550598, -0.12809...</td>\n",
       "    </tr>\n",
       "    <tr>\n",
       "      <th>3</th>\n",
       "      <td>Lawrence Angrave - Computer Science | UIUC</td>\n",
       "      <td>Diarization, Captions, and Visualization\" Pape...</td>\n",
       "      <td>[-0.25274646, 0.07164032, 0.3489835, -0.067136...</td>\n",
       "    </tr>\n",
       "    <tr>\n",
       "      <th>4</th>\n",
       "      <td>Lawrence Angrave - Computer Science | UIUC</td>\n",
       "      <td>Learning in Undergraduate Engineering and othe...</td>\n",
       "      <td>[-0.38943624, -0.03058345, 0.38179272, -0.1804...</td>\n",
       "    </tr>\n",
       "  </tbody>\n",
       "</table>\n",
       "</div>"
      ],
      "text/plain": [
       "                                        title  \\\n",
       "0  Lawrence Angrave - Computer Science | UIUC   \n",
       "1  Lawrence Angrave - Computer Science | UIUC   \n",
       "2  Lawrence Angrave - Computer Science | UIUC   \n",
       "3  Lawrence Angrave - Computer Science | UIUC   \n",
       "4  Lawrence Angrave - Computer Science | UIUC   \n",
       "\n",
       "                                                text  \\\n",
       "0  # Lawrence Angrave\\n**Teaching Professor, Gies...   \n",
       "1  (2022). \"Exploring collaborative caption editi...   \n",
       "2  (2021). c substantive responses from faking: S...   \n",
       "3  Diarization, Captions, and Visualization\" Pape...   \n",
       "4  Learning in Undergraduate Engineering and othe...   \n",
       "\n",
       "                                           embedding  \n",
       "0  [-0.32503524, 0.10525391, 0.31873307, -0.01484...  \n",
       "1  [-0.50963396, -0.08074478, 0.32562825, 0.01393...  \n",
       "2  [-0.2840345, 0.018994091, 0.28550598, -0.12809...  \n",
       "3  [-0.25274646, 0.07164032, 0.3489835, -0.067136...  \n",
       "4  [-0.38943624, -0.03058345, 0.38179272, -0.1804...  "
      ]
     },
     "execution_count": 8,
     "metadata": {},
     "output_type": "execute_result"
    }
   ],
   "source": [
    "new_df_embed.head()"
   ]
  },
  {
   "cell_type": "code",
   "execution_count": 9,
   "metadata": {},
   "outputs": [
    {
     "name": "stdout",
     "output_type": "stream",
     "text": [
      "train_features shape =  (47, 768)\n",
      "train_labels shape =  (47,)\n"
     ]
    }
   ],
   "source": [
    "import numpy as np\n",
    "\n",
    "\n",
    "train_features = np.array(new_df_embed['embedding'].tolist())\n",
    "train_labels = np.array([label_to_id[i] for i in new_df_embed['title'].tolist()])\n",
    "print(\"train_features shape = \", train_features.shape)\n",
    "print(\"train_labels shape = \", train_labels.shape)"
   ]
  },
  {
   "cell_type": "code",
   "execution_count": 10,
   "metadata": {},
   "outputs": [
    {
     "data": {
      "text/html": [
       "<style>#sk-container-id-1 {color: black;background-color: white;}#sk-container-id-1 pre{padding: 0;}#sk-container-id-1 div.sk-toggleable {background-color: white;}#sk-container-id-1 label.sk-toggleable__label {cursor: pointer;display: block;width: 100%;margin-bottom: 0;padding: 0.3em;box-sizing: border-box;text-align: center;}#sk-container-id-1 label.sk-toggleable__label-arrow:before {content: \"▸\";float: left;margin-right: 0.25em;color: #696969;}#sk-container-id-1 label.sk-toggleable__label-arrow:hover:before {color: black;}#sk-container-id-1 div.sk-estimator:hover label.sk-toggleable__label-arrow:before {color: black;}#sk-container-id-1 div.sk-toggleable__content {max-height: 0;max-width: 0;overflow: hidden;text-align: left;background-color: #f0f8ff;}#sk-container-id-1 div.sk-toggleable__content pre {margin: 0.2em;color: black;border-radius: 0.25em;background-color: #f0f8ff;}#sk-container-id-1 input.sk-toggleable__control:checked~div.sk-toggleable__content {max-height: 200px;max-width: 100%;overflow: auto;}#sk-container-id-1 input.sk-toggleable__control:checked~label.sk-toggleable__label-arrow:before {content: \"▾\";}#sk-container-id-1 div.sk-estimator input.sk-toggleable__control:checked~label.sk-toggleable__label {background-color: #d4ebff;}#sk-container-id-1 div.sk-label input.sk-toggleable__control:checked~label.sk-toggleable__label {background-color: #d4ebff;}#sk-container-id-1 input.sk-hidden--visually {border: 0;clip: rect(1px 1px 1px 1px);clip: rect(1px, 1px, 1px, 1px);height: 1px;margin: -1px;overflow: hidden;padding: 0;position: absolute;width: 1px;}#sk-container-id-1 div.sk-estimator {font-family: monospace;background-color: #f0f8ff;border: 1px dotted black;border-radius: 0.25em;box-sizing: border-box;margin-bottom: 0.5em;}#sk-container-id-1 div.sk-estimator:hover {background-color: #d4ebff;}#sk-container-id-1 div.sk-parallel-item::after {content: \"\";width: 100%;border-bottom: 1px solid gray;flex-grow: 1;}#sk-container-id-1 div.sk-label:hover label.sk-toggleable__label {background-color: #d4ebff;}#sk-container-id-1 div.sk-serial::before {content: \"\";position: absolute;border-left: 1px solid gray;box-sizing: border-box;top: 0;bottom: 0;left: 50%;z-index: 0;}#sk-container-id-1 div.sk-serial {display: flex;flex-direction: column;align-items: center;background-color: white;padding-right: 0.2em;padding-left: 0.2em;position: relative;}#sk-container-id-1 div.sk-item {position: relative;z-index: 1;}#sk-container-id-1 div.sk-parallel {display: flex;align-items: stretch;justify-content: center;background-color: white;position: relative;}#sk-container-id-1 div.sk-item::before, #sk-container-id-1 div.sk-parallel-item::before {content: \"\";position: absolute;border-left: 1px solid gray;box-sizing: border-box;top: 0;bottom: 0;left: 50%;z-index: -1;}#sk-container-id-1 div.sk-parallel-item {display: flex;flex-direction: column;z-index: 1;position: relative;background-color: white;}#sk-container-id-1 div.sk-parallel-item:first-child::after {align-self: flex-end;width: 50%;}#sk-container-id-1 div.sk-parallel-item:last-child::after {align-self: flex-start;width: 50%;}#sk-container-id-1 div.sk-parallel-item:only-child::after {width: 0;}#sk-container-id-1 div.sk-dashed-wrapped {border: 1px dashed gray;margin: 0 0.4em 0.5em 0.4em;box-sizing: border-box;padding-bottom: 0.4em;background-color: white;}#sk-container-id-1 div.sk-label label {font-family: monospace;font-weight: bold;display: inline-block;line-height: 1.2em;}#sk-container-id-1 div.sk-label-container {text-align: center;}#sk-container-id-1 div.sk-container {/* jupyter's `normalize.less` sets `[hidden] { display: none; }` but bootstrap.min.css set `[hidden] { display: none !important; }` so we also need the `!important` here to be able to override the default hidden behavior on the sphinx rendered scikit-learn.org. See: https://github.com/scikit-learn/scikit-learn/issues/21755 */display: inline-block !important;position: relative;}#sk-container-id-1 div.sk-text-repr-fallback {display: none;}</style><div id=\"sk-container-id-1\" class=\"sk-top-container\"><div class=\"sk-text-repr-fallback\"><pre>KNeighborsClassifier(metric=&#x27;cosine&#x27;)</pre><b>In a Jupyter environment, please rerun this cell to show the HTML representation or trust the notebook. <br />On GitHub, the HTML representation is unable to render, please try loading this page with nbviewer.org.</b></div><div class=\"sk-container\" hidden><div class=\"sk-item\"><div class=\"sk-estimator sk-toggleable\"><input class=\"sk-toggleable__control sk-hidden--visually\" id=\"sk-estimator-id-1\" type=\"checkbox\" checked><label for=\"sk-estimator-id-1\" class=\"sk-toggleable__label sk-toggleable__label-arrow\">KNeighborsClassifier</label><div class=\"sk-toggleable__content\"><pre>KNeighborsClassifier(metric=&#x27;cosine&#x27;)</pre></div></div></div></div></div>"
      ],
      "text/plain": [
       "KNeighborsClassifier(metric='cosine')"
      ]
     },
     "execution_count": 10,
     "metadata": {},
     "output_type": "execute_result"
    }
   ],
   "source": [
    "import numpy as np\n",
    "from sklearn.neighbors import KNeighborsClassifier\n",
    "\n",
    "# Example usage\n",
    "# Assuming you have document embeddings and a question embedding as NumPy arrays\n",
    "# doc_embeddings: (num_documents, embedding_dimension)\n",
    "# question_embedding: (1, embedding_dimension)\n",
    "\n",
    "# Create a KNN classifier with cosine similarity as the metric\n",
    "knn = KNeighborsClassifier(n_neighbors=5, metric='cosine')\n",
    "\n",
    "# Fit the KNN model with document embeddings\n",
    "knn.fit(train_features, train_labels) "
   ]
  },
  {
   "cell_type": "code",
   "execution_count": 11,
   "metadata": {},
   "outputs": [
    {
     "name": "stdout",
     "output_type": "stream",
     "text": [
      "(768,)\n"
     ]
    }
   ],
   "source": [
    "def encode_question(question, max_length=128):\n",
    "    # Load pre-trained BERT tokenizer and model\n",
    "    tokenizer = BertTokenizer.from_pretrained('bert-base-uncased')\n",
    "    model = BertModel.from_pretrained('bert-base-uncased')\n",
    "\n",
    "    # Tokenize the question\n",
    "    tokens = tokenizer.encode(question, add_special_tokens=True, max_length=max_length, truncation=True)\n",
    "\n",
    "    # Convert tokens to tensors\n",
    "    input_ids = torch.tensor([tokens])\n",
    "    \n",
    "    # Forward pass through the BERT model\n",
    "    with torch.no_grad():\n",
    "        outputs = model(input_ids)\n",
    "        # Extract the last layer embeddings for the [CLS] token (the first token)\n",
    "        question_embedding = outputs.last_hidden_state[:, 0, :]\n",
    "\n",
    "    # Convert the PyTorch tensor to a NumPy array\n",
    "    question_embedding_np = question_embedding.numpy()\n",
    "\n",
    "    return question_embedding_np\n",
    "\n",
    "# Example usage\n",
    "question = \"List all recent courses taught by Professor Lawrence Angrave\"\n",
    "question_embedding = encode_question(question)[0]\n",
    "print(question_embedding.shape)  \n"
   ]
  },
  {
   "cell_type": "code",
   "execution_count": null,
   "metadata": {},
   "outputs": [],
   "source": []
  },
  {
   "cell_type": "code",
   "execution_count": 12,
   "metadata": {},
   "outputs": [
    {
     "name": "stderr",
     "output_type": "stream",
     "text": [
      "Token indices sequence length is longer than the specified maximum sequence length for this model (4061 > 512). Running this sequence through the model will result in indexing errors\n"
     ]
    },
    {
     "name": "stdout",
     "output_type": "stream",
     "text": [
      "Lawrence Angrave - Computer Science | UIUC\n",
      "Shravan Goli x Lawrence Angrave: CS Education in Industry ...\n"
     ]
    },
    {
     "name": "stderr",
     "output_type": "stream",
     "text": [
      "/Users/devgoyal/anaconda3/envs/research/lib/python3.8/site-packages/transformers/generation/utils.py:1369: UserWarning: Using `max_length`'s default (2048) to control the generation length. This behaviour is deprecated and will be removed from the config in v5 of Transformers -- we recommend using `max_new_tokens` to control the maximum length of the generation.\n",
      "  warnings.warn(\n"
     ]
    },
    {
     "name": "stdout",
     "output_type": "stream",
     "text": [
      "<pad> CS 125 AL1 (CS 125 AL2, CS 125 AL3) - Intro to Computer Science - CS 199 241 (CS 199 341, CS 199 DYB) - De-Bug your Brain - CS 241 (CS 341) - System Programming - CS 296 41 - Honors Course - CS 498 RK1 (CS 498 RK2, CS 498 VR3, CS 498 VR4)</s>\n"
     ]
    }
   ],
   "source": [
    "def get_answer(question, context):\n",
    "    input_text = \"Answer based on context \\n\\n context: v1 \\n\\n question: v2\" \n",
    "    input_text = input_text.replace('v1', context)\n",
    "    input_text = input_text.replace('v2', question)\n",
    "    input_ids = tokenizer(input_text, return_tensors=\"pt\").input_ids\n",
    "    outputs = model_flan.generate(input_ids)\n",
    "    return tokenizer.decode(outputs[0])\n",
    "\n",
    "\n",
    "\n",
    "\n",
    "\n",
    "# get the top k most relevant documents\n",
    "k = 2\n",
    "top_k = knn.predict_proba([question_embedding])[0].argsort()[-k:][::-1]\n",
    "\n",
    "for i in top_k:\n",
    "    print(id_to_label[i])\n",
    "\n",
    "\n",
    "\n",
    "# concatenate the text from the top 5 documents\n",
    "context = df.iloc[top_k]['text'].str.cat(sep=' ')\n",
    "# print(context)\n",
    "\n",
    "\n",
    "\n",
    "# get the answer\n",
    "answer = get_answer(question, context)\n",
    "print(answer)\n"
   ]
  },
  {
   "cell_type": "code",
   "execution_count": 13,
   "metadata": {},
   "outputs": [],
   "source": [
    "# clean the documents folder\n",
    "import os\n",
    "\n",
    "for file in os.listdir('Documents'):\n",
    "    os.remove('Documents/' + file)\n"
   ]
  },
  {
   "cell_type": "code",
   "execution_count": null,
   "metadata": {},
   "outputs": [],
   "source": []
  }
 ],
 "metadata": {
  "kernelspec": {
   "display_name": "research",
   "language": "python",
   "name": "python3"
  },
  "language_info": {
   "codemirror_mode": {
    "name": "ipython",
    "version": 3
   },
   "file_extension": ".py",
   "mimetype": "text/x-python",
   "name": "python",
   "nbconvert_exporter": "python",
   "pygments_lexer": "ipython3",
   "version": "3.8.17"
  },
  "orig_nbformat": 4
 },
 "nbformat": 4,
 "nbformat_minor": 2
}
